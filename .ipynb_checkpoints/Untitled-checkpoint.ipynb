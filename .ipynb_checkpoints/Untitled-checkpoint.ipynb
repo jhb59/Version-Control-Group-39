{
 "cells": [
  {
   "cell_type": "code",
   "execution_count": null,
   "metadata": {},
   "outputs": [],
   "source": [
    "name = input(\"What is your name?\")\n",
    "temp = input(\"If you are cold type 0, if hot type 1\")\n",
    "\n",
    "if temp == 0:\n",
    "    print(\"It is winter\")\n",
    "else:\n",
    "    print(\"It is summer\")"
   ]
  }
 ],
 "metadata": {
  "kernelspec": {
   "display_name": "Python 3",
   "language": "python",
   "name": "python3"
  },
  "language_info": {
   "codemirror_mode": {
    "name": "ipython",
    "version": 3
   },
   "file_extension": ".py",
   "mimetype": "text/x-python",
   "name": "python",
   "nbconvert_exporter": "python",
   "pygments_lexer": "ipython3",
   "version": "3.8.3"
  }
 },
 "nbformat": 4,
 "nbformat_minor": 4
}
